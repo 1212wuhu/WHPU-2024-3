{
 "cells": [
  {
   "cell_type": "code",
   "execution_count": 1,
   "metadata": {},
   "outputs": [
    {
     "name": "stderr",
     "output_type": "stream",
     "text": [
      "WARNING: This is a development server. Do not use it in a production deployment. Use a production WSGI server instead.\n",
      " * Running on http://localhost:5000\n",
      "Press CTRL+C to quit\n",
      "127.0.0.1 - - [11/Apr/2024 13:04:50] \"OPTIONS /process_content HTTP/1.1\" 200 -\n",
      "127.0.0.1 - - [11/Apr/2024 13:04:54] \"POST /process_content HTTP/1.1\" 200 -\n",
      "127.0.0.1 - - [11/Apr/2024 13:22:39] \"GET / HTTP/1.1\" 404 -\n",
      "127.0.0.1 - - [11/Apr/2024 13:22:39] \"GET /process_content HTTP/1.1\" 405 -\n",
      "127.0.0.1 - - [11/Apr/2024 13:22:52] \"OPTIONS /process_content HTTP/1.1\" 200 -\n",
      "127.0.0.1 - - [11/Apr/2024 13:22:56] \"POST /process_content HTTP/1.1\" 200 -\n",
      "127.0.0.1 - - [11/Apr/2024 13:23:46] \"OPTIONS /process_content HTTP/1.1\" 200 -\n",
      "127.0.0.1 - - [11/Apr/2024 13:23:49] \"POST /process_content HTTP/1.1\" 200 -\n"
     ]
    }
   ],
   "source": [
    "from openai import OpenAI\n",
    "from qdrant_client import QdrantClient\n",
    "from qdrant_client.http.models import Distance, VectorParams\n",
    "import tqdm\n",
    "from qdrant_client import QdrantClient, models\n",
    "from flask import Flask, request, jsonify\n",
    "from werkzeug.serving import run_simple\n",
    "from flask_cors import CORS\n",
    "\n",
    "def get_embedding(text, model=\"text-embedding-3-small\"):\n",
    "    text = text.replace(\"\\n\", \" \")\n",
    "    text = text.replace(\" \", \"\")\n",
    "    return client.embeddings.create(input=[text], model=model).data[0].embedding\n",
    "\n",
    "def format_prompt(question, search_results):\n",
    "    results = \"\"\n",
    "    for i in range(5):\n",
    "        results = results + search_results[i].payload['text']\n",
    "    # print(results)\n",
    "    return results\n",
    "\n",
    "def get_messages(quest):\n",
    "    question = quest\n",
    "    search_results = client_qd.search(\n",
    "        collection_name='putin',\n",
    "        query_vector=get_embedding(question),\n",
    "        limit=5,\n",
    "        search_params={\"exact\": False, \"hnsw_ef\": 128}\n",
    "    )\n",
    "    return format_prompt(question, search_results)\n",
    "\n",
    "client = OpenAI()\n",
    "client_qd = QdrantClient(\"127.0.0.1\", port=6333)\n",
    "\n",
    "\n",
    "app = Flask(__name__)\n",
    "CORS(app)  # 添加CORS支持\n",
    "\n",
    "res = \"\"\n",
    "# 定义一个路由来处理接收到的 content\n",
    "@app.route('/process_content', methods=['POST'])\n",
    "def process_content():\n",
    "    global res\n",
    "    content = request.json.get('content')\n",
    "    \n",
    "    # 在这里可以对接收到的 content 进行处理，比如保存到文件、执行某些操作等\n",
    "    res = get_messages(content)\n",
    "\n",
    "    return res\n",
    "\n",
    "# 定义一个路由来获取数据\n",
    "@app.route('/get_data', methods=['GET'])            \n",
    "def get_data():\n",
    "    # 这里是你的Python代码，用于获取数据\n",
    "    global res\n",
    "    data = res\n",
    "    return jsonify({'data': data})\n",
    "\n",
    "\n",
    "# 在Notebook中启动Flask应用\n",
    "from werkzeug.serving import run_simple\n",
    "run_simple('localhost', 5000, app)\n"
   ]
  }
 ],
 "metadata": {
  "kernelspec": {
   "display_name": "d2l",
   "language": "python",
   "name": "python3"
  },
  "language_info": {
   "codemirror_mode": {
    "name": "ipython",
    "version": 3
   },
   "file_extension": ".py",
   "mimetype": "text/x-python",
   "name": "python",
   "nbconvert_exporter": "python",
   "pygments_lexer": "ipython3",
   "version": "3.9.18"
  }
 },
 "nbformat": 4,
 "nbformat_minor": 2
}
